{
 "cells": [
  {
   "cell_type": "code",
   "execution_count": 1,
   "metadata": {},
   "outputs": [],
   "source": [
    "import pandas as pd"
   ]
  },
  {
   "cell_type": "code",
   "execution_count": 2,
   "metadata": {},
   "outputs": [],
   "source": [
    "matches = pd.read_csv(\"../data/bundesliga_2019-2023.csv\", index_col=0)"
   ]
  },
  {
   "cell_type": "code",
   "execution_count": 3,
   "metadata": {},
   "outputs": [
    {
     "name": "stdout",
     "output_type": "stream",
     "text": [
      "Amount of games being analysed: 2788\n",
      "\n",
      "\n",
      "Amount of wins: 1054\n",
      "Amount of draws: 680\n",
      "Amount of losses: 1054\n",
      "Chance for a win: 0.3780487804878049\n",
      "Chance for a draw: 0.24390243902439024\n",
      "Chance for a loss: 0.3780487804878049\n",
      "\n",
      "\n",
      "Wins Home: 619\n",
      "Wins Away: 435\n",
      "\n",
      "\n",
      "Chance of winning at home: 0.44 %\n",
      "Chance of winning away: 0.31 %\n",
      "Chance Multiplikater for wins at home compared to away: 1.4229885057471263\n"
     ]
    }
   ],
   "source": [
    "wins_home = len(matches[(matches[\"venue\"] == \"Home\") & (matches[\"result\"] == \"W\")])\n",
    "draws_home = len(matches[(matches[\"venue\"] == \"Home\") & (matches[\"result\"] == \"D\")])\n",
    "loss_home = len(matches[(matches[\"venue\"] == \"Home\") & (matches[\"result\"] == \"L\")])\n",
    "wins_away = len(matches[(matches[\"venue\"] == \"Away\") & (matches[\"result\"] == \"W\")])\n",
    "draws_away = len(matches[(matches[\"venue\"] == \"Away\") & (matches[\"result\"] == \"D\")])\n",
    "loss_away = len(matches[(matches[\"venue\"] == \"Away\") & (matches[\"result\"] == \"L\")])\n",
    "\n",
    "how_often_home = len(matches[matches[\"venue\"] == \"Home\"])\n",
    "how_often_away = len(matches[matches[\"venue\"] == \"Away\"])\n",
    "\n",
    "chance_of_winning_home = wins_home / (how_often_home)\n",
    "chance_of_winning_away = wins_away / (how_often_away)\n",
    "\n",
    "print(\"Amount of games being analysed:\", len(matches))\n",
    "print(\"\\n\")\n",
    "print(\"Amount of wins:\", len(matches[matches[\"result\"] == \"W\"]))\n",
    "print(\"Amount of draws:\", len(matches[matches[\"result\"] == \"D\"]))\n",
    "print(\"Amount of losses:\", len(matches[matches[\"result\"] == \"L\"]))\n",
    "print(\"Chance for a win:\", len(matches[matches[\"result\"] == \"W\"]) / len(matches))\n",
    "print(\"Chance for a draw:\", len(matches[matches[\"result\"] == \"D\"]) / len(matches))\n",
    "print(\"Chance for a loss:\", len(matches[matches[\"result\"] == \"L\"]) / len(matches))\n",
    "print(\"\\n\")\n",
    "\n",
    "print(\"Wins Home:\", wins_home)\n",
    "print(\"Wins Away:\", wins_away)\n",
    "print(\"\\n\")\n",
    "\n",
    "print(\"Chance of winning at home:\", int(chance_of_winning_home * 100) / 100, \"%\")\n",
    "print(\"Chance of winning away:\", int(chance_of_winning_away * 100) / 100, \"%\")\n",
    "\n",
    "print(\"Chance Multiplikater for wins at home compared to away:\", chance_of_winning_home / chance_of_winning_away)"
   ]
  }
 ],
 "metadata": {
  "kernelspec": {
   "display_name": "venv",
   "language": "python",
   "name": "python3"
  },
  "language_info": {
   "codemirror_mode": {
    "name": "ipython",
    "version": 3
   },
   "file_extension": ".py",
   "mimetype": "text/x-python",
   "name": "python",
   "nbconvert_exporter": "python",
   "pygments_lexer": "ipython3",
   "version": "3.9.6"
  }
 },
 "nbformat": 4,
 "nbformat_minor": 2
}
