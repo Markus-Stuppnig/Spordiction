{
 "cells": [
  {
   "cell_type": "code",
   "execution_count": 1658,
   "metadata": {},
   "outputs": [],
   "source": [
    "import pandas as pd\n",
    "import datetime\n",
    "from sklearn.ensemble import RandomForestClassifier\n",
    "from sklearn.metrics import precision_score\n",
    "import numpy as np"
   ]
  },
  {
   "cell_type": "code",
   "execution_count": 1659,
   "metadata": {},
   "outputs": [],
   "source": [
    "current_time = datetime.datetime.today()\n",
    "year = str(current_time.year)\n",
    "month = str(current_time.month)\n",
    "day = str(current_time.day)\n",
    "\n",
    "if len(month) == 1:\n",
    "\tmonth = \"0\" + month\n",
    "if len(day) == 1:\n",
    "\tday = \"0\" + day\n",
    "\n",
    "split_date = year + '-' + month + '-' + day\n",
    "split_date\n",
    "\n",
    "split_date = '2023-04-01'"
   ]
  },
  {
   "cell_type": "code",
   "execution_count": 1660,
   "metadata": {},
   "outputs": [
    {
     "data": {
      "text/plain": [
       "(3466, 129)"
      ]
     },
     "execution_count": 1660,
     "metadata": {},
     "output_type": "execute_result"
    }
   ],
   "source": [
    "li = []\n",
    "\n",
    "li.append(pd.read_csv(\"../data/premier_league_2019-2023.csv\", index_col=0))\n",
    "# li.append(pd.read_csv(\"../data/la_liga_2019-2023.csv\", index_col=0))\n",
    "# li.append(pd.read_csv(\"../data/bundesliga_2019-2023.csv\", index_col=0))\n",
    "# li.append(pd.read_csv(\"../data/serie_a_2019-2023.csv\", index_col=0))\n",
    "matches = pd.concat(li, axis=0, ignore_index=True)\n",
    "matches.shape"
   ]
  },
  {
   "cell_type": "code",
   "execution_count": 1661,
   "metadata": {},
   "outputs": [],
   "source": [
    "matches[\"target\"] = (matches[\"result\"] == \"W\").astype(\"int\")"
   ]
  },
  {
   "cell_type": "code",
   "execution_count": 1662,
   "metadata": {},
   "outputs": [],
   "source": [
    "matches[\"venue_code\"] = matches[\"venue\"].astype(\"category\").cat.codes == 1\n",
    "matches[\"opponent_code\"] = matches[\"opponent\"].astype(\"category\").cat.codes #each opponent now has their own code"
   ]
  },
  {
   "cell_type": "code",
   "execution_count": 1663,
   "metadata": {},
   "outputs": [],
   "source": [
    "matches[\"date\"] = pd.to_datetime(matches[\"date\"])\n",
    "matches[\"hour\"] = matches[\"time\"].str.replace(\":.+\", \"\", regex=True).astype(\"int\") #remove : and minutes, keep just hour\n",
    "matches[\"day_code\"] = matches[\"date\"].dt.dayofweek"
   ]
  },
  {
   "cell_type": "code",
   "execution_count": 1664,
   "metadata": {},
   "outputs": [],
   "source": [
    "matches[\"formation_code\"] = matches[\"formation\"].astype(\"category\").cat.codes #each opponent now has their own code\n",
    "matches[\"referee_code\"] = matches[\"referee\"].astype(\"category\").cat.codes #each opponent now has their own code"
   ]
  },
  {
   "cell_type": "code",
   "execution_count": 1665,
   "metadata": {},
   "outputs": [],
   "source": [
    "rf = RandomForestClassifier(n_estimators=10000, random_state=1)"
   ]
  },
  {
   "cell_type": "code",
   "execution_count": 1666,
   "metadata": {},
   "outputs": [],
   "source": [
    "train = matches[matches[\"date\"] < split_date]\n",
    "test = matches[matches[\"date\"] > split_date]"
   ]
  },
  {
   "cell_type": "code",
   "execution_count": 1667,
   "metadata": {},
   "outputs": [],
   "source": [
    "predictors = [\"venue_code\", \"opponent_code\", \"hour\", \"day_code\", \"formation_code\", \"referee_code\"] # add date"
   ]
  },
  {
   "cell_type": "code",
   "execution_count": 1668,
   "metadata": {},
   "outputs": [],
   "source": [
    "def rolling_averages(group, cols, new_cols):\n",
    "    group = group.sort_values(\"date\") # date wird immer spaeter von 2019 bis 2024\n",
    "\n",
    "    weights = [0.333333, 0.333333, 0.333333] # Weights der Games\n",
    "\n",
    "    rolling_stats = group[cols].rolling(3, closed='left').apply(lambda x: (x * weights).sum())\n",
    "    group[new_cols] = rolling_stats\n",
    "    group = group.dropna(subset=new_cols)\n",
    "\n",
    "    return group"
   ]
  },
  {
   "cell_type": "code",
   "execution_count": 1669,
   "metadata": {},
   "outputs": [],
   "source": [
    "cols = [\"gf\", \"ga\", \"sh\", \"sot\", \"dist\", \"fk\", \"pk\", \"pkatt\", \"sota\"]\n",
    "# , \"saves\", \"opp\", \"stp\"\n",
    "new_cols = [f\"{c}_rolling\" for c in cols]\n",
    "opp_cols = [f\"{c}_rolling_opp\" for c in cols]"
   ]
  },
  {
   "cell_type": "code",
   "execution_count": 1670,
   "metadata": {},
   "outputs": [
    {
     "name": "stderr",
     "output_type": "stream",
     "text": [
      "/var/folders/yn/th9j1n395vq70h3nx8132vg00000gn/T/ipykernel_56157/4201288075.py:1: DeprecationWarning: DataFrameGroupBy.apply operated on the grouping columns. This behavior is deprecated, and in a future version of pandas the grouping columns will be excluded from the operation. Either pass `include_groups=False` to exclude the groupings or explicitly select the grouping columns after groupby to silence this warning.\n",
      "  matches_rolling = matches.groupby(\"team\").apply(lambda x: rolling_averages(x, cols, new_cols))\n"
     ]
    }
   ],
   "source": [
    "matches_rolling = matches.groupby(\"team\").apply(lambda x: rolling_averages(x, cols, new_cols))\n",
    "matches_rolling = matches_rolling.droplevel('team')"
   ]
  },
  {
   "cell_type": "code",
   "execution_count": 1671,
   "metadata": {},
   "outputs": [],
   "source": [
    "def rolling_averages_opponent(matches_rolling):\n",
    "    grouped = matches_rolling.groupby(\"team\")\n",
    "\n",
    "    for index, game in matches_rolling.iterrows():\n",
    "        date = game['date']\n",
    "        opponent_name = game['opponent']\n",
    "        team = game['team']\n",
    "\n",
    "        opponent = grouped.get_group(opponent_name)\n",
    "\n",
    "        year = str(date.year)\n",
    "        month = str(date.month)\n",
    "        day = str(date.day)\n",
    "        \n",
    "        if len(month) == 1:\n",
    "            month = \"0\" + month\n",
    "        if len(day) == 1:\n",
    "            day = \"0\" + day\n",
    "              \n",
    "        date_str = year + \"-\" + month + \"-\" + day\n",
    "        opponent_game = opponent[opponent[\"date\"] == date_str]\n",
    "\n",
    "        for column in opponent:\n",
    "            if not \"rolling\" in column:\n",
    "                continue\n",
    "            \n",
    "            matches_rolling.loc[index, column + \"_opp\"] = opponent_game[column].values[0] if not opponent_game.empty else None\n",
    "        # columns = opponent.columns[\"rolling\" in opponent.columns]\n",
    "        # print(columns)\n",
    "        # print(opponent)\n",
    "        # print(game)    \n",
    "\n",
    "        # break\n",
    "    \n",
    "    return matches_rolling"
   ]
  },
  {
   "cell_type": "code",
   "execution_count": 1672,
   "metadata": {},
   "outputs": [],
   "source": [
    "def rolling_averages_opponent2(matches_rolling):\n",
    "    matches_rolling['date_str'] = matches_rolling['date'].dt.strftime('%Y-%m-%d')\n",
    "    matches_rolling.set_index(['team', 'date_str'], inplace=True)\n",
    "\n",
    "    rolling_cols = [col for col in matches_rolling.columns if 'rolling' in col]\n",
    "    print(rolling_cols)\n",
    "    for col in rolling_cols:\n",
    "        matches_rolling[col + '_opp'] = matches_rolling.groupby('opponent')[col].shift()\n",
    "\n",
    "    matches_rolling.reset_index(inplace=True)\n",
    "    matches_rolling = matches_rolling.dropna(subset=opp_cols)\n",
    "    return matches_rolling"
   ]
  },
  {
   "cell_type": "code",
   "execution_count": 1673,
   "metadata": {},
   "outputs": [
    {
     "name": "stdout",
     "output_type": "stream",
     "text": [
      "['gf_rolling', 'ga_rolling', 'sh_rolling', 'sot_rolling', 'dist_rolling', 'fk_rolling', 'pk_rolling', 'pkatt_rolling', 'sota_rolling']\n"
     ]
    }
   ],
   "source": [
    "matches_rolling = rolling_averages_opponent2(matches_rolling)\n",
    "# matches_rolling.head(50)"
   ]
  },
  {
   "cell_type": "code",
   "execution_count": 1674,
   "metadata": {},
   "outputs": [],
   "source": [
    "matches_rolling.index = range(matches_rolling.shape[0])"
   ]
  },
  {
   "cell_type": "code",
   "execution_count": 1675,
   "metadata": {},
   "outputs": [
    {
     "name": "stdout",
     "output_type": "stream",
     "text": [
      "1682\n"
     ]
    }
   ],
   "source": [
    "matches_rolling = matches_rolling[matches_rolling[\"venue\"] == \"Home\"]\n",
    "print(len(matches_rolling))"
   ]
  },
  {
   "cell_type": "code",
   "execution_count": 1676,
   "metadata": {},
   "outputs": [],
   "source": [
    "def make_predictions(data, predictors):\n",
    "    train = data[data[\"date\"] < split_date]\n",
    "    test = data[data[\"date\"] > split_date]\n",
    "\n",
    "    rf.fit(train[predictors], train[\"target\"])\n",
    "\n",
    "    predsWinsTrain = rf.predict(train[predictors])\n",
    "    predsWinsTest = rf.predict(test[predictors])\n",
    "    print(predsWinsTest)\n",
    "\n",
    "    probabilities = rf.predict_proba(test[predictors])\n",
    "    probabilities = probabilities[:, 0]\n",
    "\n",
    "    combinedWinsTrain = pd.DataFrame(dict(actual=train[\"target\"], predicted=predsWinsTrain), index=train.index)\n",
    "    errorWinsTrain = precision_score(train[\"target\"], predsWinsTrain)\n",
    "\n",
    "    combinedWinsTest = pd.DataFrame(dict(actual=test[\"target\"], predicted=predsWinsTest), index=test.index)\n",
    "    combinedWinsTest['probabilities'] = probabilities\n",
    "    \n",
    "    errorWinsTest = precision_score(test[\"target\"], predsWinsTest)\n",
    "\n",
    "    print(errorWinsTrain)\n",
    "    print(errorWinsTest)\n",
    "\n",
    "    return combinedWinsTest, errorWinsTest"
   ]
  },
  {
   "cell_type": "code",
   "execution_count": 1677,
   "metadata": {},
   "outputs": [
    {
     "name": "stdout",
     "output_type": "stream",
     "text": [
      "[1 1 1 1 1 1 1 1 1 1 1 1 1 1 1 1 0 0 0 0 0 1 0 1 1 1 0 0 1 0 0 0 0 0 0 0 0\n",
      " 0 0 0 0 0 0 0 1 0 0 0 0 0 0 1 1 0 0 0 1 0 0 0 0 0 1 1 1 0 1 1 1 1 1 0 0 0\n",
      " 1 0 1 1 0 0 0 0 0 0 0 0 0 0 0 0 1 0 0 0 0 0 1 1 0 0 0 0 1 0 0 1 0 0 0 0 1\n",
      " 0 0 0 0 0 0 0 0 1 0 0 0 0 0 0 0 0 0 1 1 0 0 1 0 0 0 0 0 0 0 0 0 0 1 0 0 0\n",
      " 0 0 0 0 1 0 0 0 0 0 0 0 0 0 0 0 0 1 1 1 1 1 1 0 1 0 1 1 1 1 0 1 0 0 1 0 0\n",
      " 0 0 0 0 1 1 1 1 1 1 1 1 1 1 1 1 1 1 1 0 0 1 1 1 1 1 1 0 0 0 1 0 0 0 1 0 0\n",
      " 1 1 1 1 1 1 0 1 1 0 1 0 0 0 1 0 0 0 1 0 0 0 0 0 0 0 0 0 0 0 0 0 0 0 0 0 0\n",
      " 0 0 0 0 0 0 0 0 0 0 0 0 0 0 0 1 1 1 1 1 0 0 0 1 1 1 0 0 0 0 0 0 0 0 0 0 0\n",
      " 0 0 0 0 0 0 0 0 0 0 0 0 0 0 0 0 0 0 0]\n",
      "1.0\n",
      "0.7281553398058253\n"
     ]
    }
   ],
   "source": [
    "combinedWins, errorWins = make_predictions(matches_rolling, predictors + new_cols + opp_cols)"
   ]
  },
  {
   "cell_type": "code",
   "execution_count": 1678,
   "metadata": {},
   "outputs": [],
   "source": [
    "combinedWins = combinedWins.merge(matches_rolling[[\"result\", \"gf\", \"ga\", \"team\", \"opponent\", \"venue\", \"date\", \"hour\", \"formation_code\", \"referee_code\"]], left_index=True, right_index=True)"
   ]
  },
  {
   "cell_type": "code",
   "execution_count": 1679,
   "metadata": {},
   "outputs": [
    {
     "data": {
      "text/html": [
       "<div>\n",
       "<style scoped>\n",
       "    .dataframe tbody tr th:only-of-type {\n",
       "        vertical-align: middle;\n",
       "    }\n",
       "\n",
       "    .dataframe tbody tr th {\n",
       "        vertical-align: top;\n",
       "    }\n",
       "\n",
       "    .dataframe thead th {\n",
       "        text-align: right;\n",
       "    }\n",
       "</style>\n",
       "<table border=\"1\" class=\"dataframe\">\n",
       "  <thead>\n",
       "    <tr style=\"text-align: right;\">\n",
       "      <th></th>\n",
       "      <th>actual</th>\n",
       "      <th>predicted</th>\n",
       "      <th>probabilities</th>\n",
       "      <th>result</th>\n",
       "      <th>gf</th>\n",
       "      <th>ga</th>\n",
       "      <th>team</th>\n",
       "      <th>opponent</th>\n",
       "      <th>venue</th>\n",
       "      <th>date</th>\n",
       "      <th>hour</th>\n",
       "      <th>formation_code</th>\n",
       "      <th>referee_code</th>\n",
       "    </tr>\n",
       "  </thead>\n",
       "  <tbody>\n",
       "    <tr>\n",
       "      <th>3156</th>\n",
       "      <td>1</td>\n",
       "      <td>1</td>\n",
       "      <td>0.4566</td>\n",
       "      <td>W</td>\n",
       "      <td>1.0</td>\n",
       "      <td>0.0</td>\n",
       "      <td>West Ham United</td>\n",
       "      <td>Southampton</td>\n",
       "      <td>Home</td>\n",
       "      <td>2023-04-02</td>\n",
       "      <td>14</td>\n",
       "      <td>15</td>\n",
       "      <td>20</td>\n",
       "    </tr>\n",
       "    <tr>\n",
       "      <th>1510</th>\n",
       "      <td>1</td>\n",
       "      <td>1</td>\n",
       "      <td>0.4204</td>\n",
       "      <td>W</td>\n",
       "      <td>2.0</td>\n",
       "      <td>1.0</td>\n",
       "      <td>Leeds United</td>\n",
       "      <td>Nott'ham Forest</td>\n",
       "      <td>Home</td>\n",
       "      <td>2023-04-04</td>\n",
       "      <td>19</td>\n",
       "      <td>12</td>\n",
       "      <td>23</td>\n",
       "    </tr>\n",
       "    <tr>\n",
       "      <th>285</th>\n",
       "      <td>1</td>\n",
       "      <td>1</td>\n",
       "      <td>0.4260</td>\n",
       "      <td>W</td>\n",
       "      <td>2.0</td>\n",
       "      <td>0.0</td>\n",
       "      <td>Aston Villa</td>\n",
       "      <td>Nott'ham Forest</td>\n",
       "      <td>Home</td>\n",
       "      <td>2023-04-08</td>\n",
       "      <td>15</td>\n",
       "      <td>17</td>\n",
       "      <td>2</td>\n",
       "    </tr>\n",
       "    <tr>\n",
       "      <th>1997</th>\n",
       "      <td>1</td>\n",
       "      <td>1</td>\n",
       "      <td>0.4088</td>\n",
       "      <td>W</td>\n",
       "      <td>3.0</td>\n",
       "      <td>1.0</td>\n",
       "      <td>Manchester City</td>\n",
       "      <td>Leicester City</td>\n",
       "      <td>Home</td>\n",
       "      <td>2023-04-15</td>\n",
       "      <td>17</td>\n",
       "      <td>1</td>\n",
       "      <td>6</td>\n",
       "    </tr>\n",
       "    <tr>\n",
       "      <th>946</th>\n",
       "      <td>0</td>\n",
       "      <td>1</td>\n",
       "      <td>0.4338</td>\n",
       "      <td>L</td>\n",
       "      <td>1.0</td>\n",
       "      <td>2.0</td>\n",
       "      <td>Chelsea</td>\n",
       "      <td>Brighton</td>\n",
       "      <td>Home</td>\n",
       "      <td>2023-04-15</td>\n",
       "      <td>15</td>\n",
       "      <td>12</td>\n",
       "      <td>23</td>\n",
       "    </tr>\n",
       "    <tr>\n",
       "      <th>...</th>\n",
       "      <td>...</td>\n",
       "      <td>...</td>\n",
       "      <td>...</td>\n",
       "      <td>...</td>\n",
       "      <td>...</td>\n",
       "      <td>...</td>\n",
       "      <td>...</td>\n",
       "      <td>...</td>\n",
       "      <td>...</td>\n",
       "      <td>...</td>\n",
       "      <td>...</td>\n",
       "      <td>...</td>\n",
       "      <td>...</td>\n",
       "    </tr>\n",
       "    <tr>\n",
       "      <th>1837</th>\n",
       "      <td>1</td>\n",
       "      <td>1</td>\n",
       "      <td>0.3849</td>\n",
       "      <td>W</td>\n",
       "      <td>4.0</td>\n",
       "      <td>2.0</td>\n",
       "      <td>Liverpool</td>\n",
       "      <td>Newcastle Utd</td>\n",
       "      <td>Home</td>\n",
       "      <td>2024-01-01</td>\n",
       "      <td>20</td>\n",
       "      <td>15</td>\n",
       "      <td>2</td>\n",
       "    </tr>\n",
       "    <tr>\n",
       "      <th>144</th>\n",
       "      <td>1</td>\n",
       "      <td>1</td>\n",
       "      <td>0.3827</td>\n",
       "      <td>W</td>\n",
       "      <td>5.0</td>\n",
       "      <td>0.0</td>\n",
       "      <td>Arsenal</td>\n",
       "      <td>Crystal Palace</td>\n",
       "      <td>Home</td>\n",
       "      <td>2024-01-20</td>\n",
       "      <td>12</td>\n",
       "      <td>15</td>\n",
       "      <td>20</td>\n",
       "    </tr>\n",
       "    <tr>\n",
       "      <th>671</th>\n",
       "      <td>0</td>\n",
       "      <td>1</td>\n",
       "      <td>0.3398</td>\n",
       "      <td>D</td>\n",
       "      <td>0.0</td>\n",
       "      <td>0.0</td>\n",
       "      <td>Brighton and Hove Albion</td>\n",
       "      <td>Wolves</td>\n",
       "      <td>Home</td>\n",
       "      <td>2024-01-22</td>\n",
       "      <td>19</td>\n",
       "      <td>15</td>\n",
       "      <td>4</td>\n",
       "    </tr>\n",
       "    <tr>\n",
       "      <th>1856</th>\n",
       "      <td>1</td>\n",
       "      <td>1</td>\n",
       "      <td>0.4789</td>\n",
       "      <td>W</td>\n",
       "      <td>4.0</td>\n",
       "      <td>0.0</td>\n",
       "      <td>Luton Town</td>\n",
       "      <td>Brighton</td>\n",
       "      <td>Home</td>\n",
       "      <td>2024-01-30</td>\n",
       "      <td>19</td>\n",
       "      <td>4</td>\n",
       "      <td>23</td>\n",
       "    </tr>\n",
       "    <tr>\n",
       "      <th>1142</th>\n",
       "      <td>1</td>\n",
       "      <td>1</td>\n",
       "      <td>0.4843</td>\n",
       "      <td>W</td>\n",
       "      <td>3.0</td>\n",
       "      <td>2.0</td>\n",
       "      <td>Crystal Palace</td>\n",
       "      <td>Sheffield Utd</td>\n",
       "      <td>Home</td>\n",
       "      <td>2024-01-30</td>\n",
       "      <td>20</td>\n",
       "      <td>15</td>\n",
       "      <td>31</td>\n",
       "    </tr>\n",
       "  </tbody>\n",
       "</table>\n",
       "<p>103 rows × 13 columns</p>\n",
       "</div>"
      ],
      "text/plain": [
       "      actual  predicted  probabilities result   gf   ga  \\\n",
       "3156       1          1         0.4566      W  1.0  0.0   \n",
       "1510       1          1         0.4204      W  2.0  1.0   \n",
       "285        1          1         0.4260      W  2.0  0.0   \n",
       "1997       1          1         0.4088      W  3.0  1.0   \n",
       "946        0          1         0.4338      L  1.0  2.0   \n",
       "...      ...        ...            ...    ...  ...  ...   \n",
       "1837       1          1         0.3849      W  4.0  2.0   \n",
       "144        1          1         0.3827      W  5.0  0.0   \n",
       "671        0          1         0.3398      D  0.0  0.0   \n",
       "1856       1          1         0.4789      W  4.0  0.0   \n",
       "1142       1          1         0.4843      W  3.0  2.0   \n",
       "\n",
       "                          team         opponent venue       date  hour  \\\n",
       "3156           West Ham United      Southampton  Home 2023-04-02    14   \n",
       "1510              Leeds United  Nott'ham Forest  Home 2023-04-04    19   \n",
       "285                Aston Villa  Nott'ham Forest  Home 2023-04-08    15   \n",
       "1997           Manchester City   Leicester City  Home 2023-04-15    17   \n",
       "946                    Chelsea         Brighton  Home 2023-04-15    15   \n",
       "...                        ...              ...   ...        ...   ...   \n",
       "1837                 Liverpool    Newcastle Utd  Home 2024-01-01    20   \n",
       "144                    Arsenal   Crystal Palace  Home 2024-01-20    12   \n",
       "671   Brighton and Hove Albion           Wolves  Home 2024-01-22    19   \n",
       "1856                Luton Town         Brighton  Home 2024-01-30    19   \n",
       "1142            Crystal Palace    Sheffield Utd  Home 2024-01-30    20   \n",
       "\n",
       "      formation_code  referee_code  \n",
       "3156              15            20  \n",
       "1510              12            23  \n",
       "285               17             2  \n",
       "1997               1             6  \n",
       "946               12            23  \n",
       "...              ...           ...  \n",
       "1837              15             2  \n",
       "144               15            20  \n",
       "671               15             4  \n",
       "1856               4            23  \n",
       "1142              15            31  \n",
       "\n",
       "[103 rows x 13 columns]"
      ]
     },
     "execution_count": 1679,
     "metadata": {},
     "output_type": "execute_result"
    }
   ],
   "source": [
    "finalGuess = combinedWins[(combinedWins[\"predicted\"] == 1)].sort_values(\"date\")\n",
    "finalGuess"
   ]
  },
  {
   "cell_type": "code",
   "execution_count": 1680,
   "metadata": {},
   "outputs": [
    {
     "name": "stdout",
     "output_type": "stream",
     "text": [
      "103\n",
      "75\n",
      "72.81 %\n",
      "Minimum win: 1.3733333333333333\n"
     ]
    }
   ],
   "source": [
    "print(len(finalGuess))\n",
    "print(len(finalGuess[finalGuess[\"actual\"] == 1]))\n",
    "print(int(len(finalGuess[finalGuess[\"actual\"] == 1]) / len(finalGuess) * 10000) / 100, \"%\")\n",
    "num = len(finalGuess[finalGuess[\"actual\"] == 1]) / len(finalGuess)\n",
    "print(\"Minimum win:\", 1 + (1.0 - num) / num)"
   ]
  },
  {
   "cell_type": "code",
   "execution_count": 1681,
   "metadata": {},
   "outputs": [
    {
     "name": "stdout",
     "output_type": "stream",
     "text": [
      "0.6634920634920635\n",
      "315\n"
     ]
    }
   ],
   "source": [
    "print(len(combinedWins[combinedWins[\"actual\"] == combinedWins[\"predicted\"]]) / len(combinedWins))\n",
    "print(len(combinedWins))"
   ]
  }
 ],
 "metadata": {
  "kernelspec": {
   "display_name": "venv",
   "language": "python",
   "name": "python3"
  },
  "language_info": {
   "codemirror_mode": {
    "name": "ipython",
    "version": 3
   },
   "file_extension": ".py",
   "mimetype": "text/x-python",
   "name": "python",
   "nbconvert_exporter": "python",
   "pygments_lexer": "ipython3",
   "version": "3.9.6"
  }
 },
 "nbformat": 4,
 "nbformat_minor": 2
}
